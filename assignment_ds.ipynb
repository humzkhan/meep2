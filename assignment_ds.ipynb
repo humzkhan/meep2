{
  "nbformat": 4,
  "nbformat_minor": 0,
  "metadata": {
    "colab": {
      "provenance": []
    },
    "kernelspec": {
      "name": "python3",
      "display_name": "Python 3"
    }
  },
  "cells": [
    {
      "cell_type": "markdown",
      "metadata": {
        "id": "GYlD7U3lktdN"
      },
      "source": [
        "# MIE451/1513 Decision Support System -- Data Science Solution"
      ]
    },
    {
      "cell_type": "markdown",
      "metadata": {
        "id": "VkPTO0ckkzPh"
      },
      "source": [
        "# Q1"
      ]
    },
    {
      "cell_type": "markdown",
      "metadata": {
        "id": "-agmhGyCk439"
      },
      "source": [
        "# Q2"
      ]
    },
    {
      "cell_type": "markdown",
      "metadata": {
        "id": "Eora4dICk6JF"
      },
      "source": [
        "# Q3"
      ]
    },
    {
      "cell_type": "markdown",
      "metadata": {
        "id": "RW1Bgtq3k9to"
      },
      "source": [
        "# Q4"
      ]
    },
    {
      "cell_type": "markdown",
      "metadata": {
        "id": "jffWaVFQlA7Y"
      },
      "source": [
        "# Q5\n"
      ]
    },
    {
      "cell_type": "code",
      "metadata": {
        "id": "m6P2jFP6lCRv"
      },
      "source": [],
      "execution_count": null,
      "outputs": []
    }
  ]
}